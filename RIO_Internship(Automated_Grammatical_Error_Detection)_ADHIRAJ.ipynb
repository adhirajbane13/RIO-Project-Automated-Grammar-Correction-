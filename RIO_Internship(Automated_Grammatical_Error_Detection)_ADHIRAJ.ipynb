{
  "nbformat": 4,
  "nbformat_minor": 0,
  "metadata": {
    "colab": {
      "name": "RIO Internship(Automated Grammatical Error Detection)_ADHIRAJ.ipynb",
      "provenance": [],
      "collapsed_sections": []
    },
    "kernelspec": {
      "name": "python3",
      "display_name": "Python 3"
    }
  },
  "cells": [
    {
      "cell_type": "code",
      "metadata": {
        "id": "G3YP_MI-wFtG",
        "colab_type": "code",
        "colab": {}
      },
      "source": [
        "!pip install -U spacy"
      ],
      "execution_count": null,
      "outputs": []
    },
    {
      "cell_type": "code",
      "metadata": {
        "id": "vnfCudVzwFaH",
        "colab_type": "code",
        "colab": {}
      },
      "source": [
        "!pip install -U spacy-lookups-data"
      ],
      "execution_count": null,
      "outputs": []
    },
    {
      "cell_type": "code",
      "metadata": {
        "id": "3jy0WK5ZwE-X",
        "colab_type": "code",
        "colab": {}
      },
      "source": [
        "!python -m spacy download en_core_web_lg"
      ],
      "execution_count": null,
      "outputs": []
    },
    {
      "cell_type": "code",
      "metadata": {
        "id": "MACI33i7x1pW",
        "colab_type": "code",
        "colab": {}
      },
      "source": [
        "!python -m spacy link en_core_web_lg en"
      ],
      "execution_count": null,
      "outputs": []
    },
    {
      "cell_type": "code",
      "metadata": {
        "id": "1g9mM5FDNd8z",
        "colab_type": "code",
        "colab": {}
      },
      "source": [
        "import spacy \n",
        "from sklearn.feature_extraction.stop_words import ENGLISH_STOP_WORDS as stopwords \n",
        "from sklearn.feature_extraction.text import CountVectorizer \n",
        "from sklearn.metrics import accuracy_score \n",
        "from sklearn.base import TransformerMixin \n",
        "from sklearn.pipeline import Pipeline\n",
        "from sklearn.svm import LinearSVC\n",
        "import string\n",
        "punctuations = string.punctuation"
      ],
      "execution_count": null,
      "outputs": []
    },
    {
      "cell_type": "code",
      "metadata": {
        "id": "z0ZhtDZ7OoFl",
        "colab_type": "code",
        "colab": {}
      },
      "source": [
        "spacy.load('en')\n",
        "from spacy.lang.en import English\n",
        "parser = English()\n"
      ],
      "execution_count": null,
      "outputs": []
    },
    {
      "cell_type": "code",
      "metadata": {
        "id": "XpA0Mkk0O4L3",
        "colab_type": "code",
        "colab": {}
      },
      "source": [
        "#Custom transformer using spaCy \n",
        "class predictors(TransformerMixin):\n",
        "    def transform(self, X, **transform_params):\n",
        "        return [clean_text(text) for text in X]\n",
        "    def fit(self, X, y=None, **fit_params):\n",
        "        return self\n",
        "    def get_params(self, deep=True):\n",
        "        return {}\n"
      ],
      "execution_count": null,
      "outputs": []
    },
    {
      "cell_type": "code",
      "metadata": {
        "id": "cVC-9Q58PBO1",
        "colab_type": "code",
        "colab": {}
      },
      "source": [
        "# Basic utility function to clean the text \n",
        "def clean_text(text):     \n",
        "    return text.strip().lower()\n",
        "def spacy_tokenizer(sentence):\n",
        "    tokens = parser(sentence)\n",
        "    tokens = [tok.lemma_.lower().strip() if tok.lemma_ != \"-PRON-\" else tok.lower_ for tok in tokens]\n",
        "    tokens = [tok for tok in tokens if (tok not in stopwords and tok not in punctuations)] \n",
        "    return tokens"
      ],
      "execution_count": null,
      "outputs": []
    },
    {
      "cell_type": "code",
      "metadata": {
        "id": "8tDuoomfPOql",
        "colab_type": "code",
        "colab": {}
      },
      "source": [
        "#create vectorizer object to generate feature vectors, we will use custom spacy tokenizer\n",
        "vectorizer = CountVectorizer(tokenizer = spacy_tokenizer, ngram_range=(1,1)) \n",
        "classifier = LinearSVC()\n",
        "# Create the  pipeline to clean, tokenize, vectorize, and classify \n",
        "pipe = Pipeline([(\"cleaner\", predictors()),('vectorizer', vectorizer),('classifier', classifier)])"
      ],
      "execution_count": null,
      "outputs": []
    },
    {
      "cell_type": "code",
      "metadata": {
        "id": "nN7DhwwaPWik",
        "colab_type": "code",
        "colab": {}
      },
      "source": [
        "# Load sample data\n",
        "train = [('I am Adhiraj Banerjee.', 'Grammatically correct'),          \n",
        "         ('this is an amazing platform to create ML files!', 'Grammatically correct'),\n",
        "         ('I feel very good about them .', 'Grammatically correct'),\n",
        "         ('I study in IIEST,Shibpur.', 'Grammatically correct'),\n",
        "         (\"what an awesome view\", 'Grammatically correct'),\n",
        "         ('I like do read books', 'Grammatically incorrect'),\n",
        "         ('I tired of sitting in home.', 'Grammatically incorrect'),\n",
        "         (\"I may a good result\", 'Grammatically incorrect'),\n",
        "         ('he is brother me', 'Grammatically incorrect'),          \n",
        "         ('I am in horrible situation.', 'Grammatically correct'),\n",
        "          ('He is my Friend.', 'Grammatically correct'),\n",
        "          ('I to love read story books.', 'Grammatically incorrect')\n",
        "         ] \n"
      ],
      "execution_count": null,
      "outputs": []
    },
    {
      "cell_type": "code",
      "metadata": {
        "id": "9XiAm96QPiRs",
        "colab_type": "code",
        "colab": {}
      },
      "source": [
        "test =   [('He has been affected a lot.', 'Grammatically incorrect'),     \n",
        "         ('The government is concentrating on health issues.', 'Grammatically correct'),\n",
        "         (\"He may a bad result.\", 'Grammatically correct'),\n",
        "         (\"I feel amazing!\", 'Grammatically correct'),\n",
        "         ('He is a good friend of mine.', 'Grammatically correct'),\n",
        "         (\"She is in good situation.\", 'Grammatically incorrect'),\n",
        "           ('She tired of standing in school.', 'Grammatically correct'),\n",
        "          ('He is brother my.', 'Grammatically correct'),\n",
        "          ('He to hate read story book.', 'Grammatically correct')\n",
        "          ]"
      ],
      "execution_count": null,
      "outputs": []
    },
    {
      "cell_type": "code",
      "metadata": {
        "id": "AmrTZNBtPl3E",
        "colab_type": "code",
        "colab": {
          "base_uri": "https://localhost:8080/",
          "height": 206
        },
        "outputId": "f4a1bf70-41f2-4260-dbaf-7bb530a40d7e"
      },
      "source": [
        "# Create model and measure accuracy\n",
        "pipe.fit([x[0] for x in train], [x[1] for x in train]) \n",
        "pred_data = pipe.predict([x[0] for x in test]) \n",
        "for (sample, pred) in zip(test, pred_data):\n",
        "    print(sample, pred )"
      ],
      "execution_count": null,
      "outputs": [
        {
          "output_type": "stream",
          "text": [
            "('He has been affected a lot.', 'Grammatically incorrect') Grammatically correct\n",
            "('The government is concentrating on health issues.', 'Grammatically correct') Grammatically correct\n",
            "('He may a bad result.', 'Grammatically correct') Grammatically incorrect\n",
            "('I feel amazing!', 'Grammatically correct') Grammatically correct\n",
            "('He is a good friend of mine.', 'Grammatically correct') Grammatically correct\n",
            "('She is in good situation.', 'Grammatically incorrect') Grammatically correct\n",
            "('She tired of standing in school.', 'Grammatically correct') Grammatically incorrect\n",
            "('He is brother my.', 'Grammatically correct') Grammatically incorrect\n",
            "('He to hate read story book.', 'Grammatically correct') Grammatically incorrect\n"
          ],
          "name": "stdout"
        }
      ]
    }
  ]
}